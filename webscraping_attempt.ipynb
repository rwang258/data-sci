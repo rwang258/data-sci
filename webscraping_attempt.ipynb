{
 "cells": [
  {
   "cell_type": "code",
   "execution_count": null,
   "id": "72605494-3592-42f9-a723-18ad87c22432",
   "metadata": {},
   "outputs": [],
   "source": []
  },
  {
   "cell_type": "markdown",
   "id": "69260cbb-4173-47c7-b1d0-f9b06c745f06",
   "metadata": {},
   "source": [
    "To make things simple, we will start off by getting the salary and winning percentage data for each team for the 2020-2021 season. Our ideal dataframe will then have 30 rows, representing all 30 NBA teams in the 2020-2021 season, with two columns, one being the standard deviation of salary and the other being the winning percentage in the regular season. \n",
    "\n",
    "To get this dataframe, first we will obtain salary data for every player in 2020-2021. "
   ]
  },
  {
   "cell_type": "markdown",
   "id": "b75a94a8-83af-4ca1-b7ce-00f95249177f",
   "metadata": {},
   "source": [
    "To do this, we need to scrape it from ESPN. I will use some code from previous homeworks to do this. First, let's import what we need."
   ]
  },
  {
   "cell_type": "code",
   "execution_count": 2,
   "id": "4b3b051f-b10e-49b9-b2b7-d27fea1a22a8",
   "metadata": {},
   "outputs": [],
   "source": [
    "import requests #package for http requests\n",
    "import bs4 # package for html parsing\n",
    "import numpy as np\n",
    "import matplotlib.pyplot as plt\n",
    "import pandas as pd"
   ]
  },
  {
   "cell_type": "markdown",
   "id": "172ff745-fd35-4b15-8757-854fbfc0a79e",
   "metadata": {},
   "source": [
    "Next, I'll download the ESPN webpage which contains salary information for all players in 2020-2021."
   ]
  },
  {
   "cell_type": "code",
   "execution_count": 3,
   "id": "7938a09a-ad87-4d86-9d0b-1b0a122c5847",
   "metadata": {},
   "outputs": [
    {
     "data": {
      "text/plain": [
       "<Response [200]>"
      ]
     },
     "execution_count": 3,
     "metadata": {},
     "output_type": "execute_result"
    }
   ],
   "source": [
    "espn_web_scraping = 'http://www.espn.com/nba/salaries/_/year/2021'\n",
    "requests.get(espn_web_scraping)"
   ]
  },
  {
   "cell_type": "markdown",
   "id": "9948a38f-4c82-4d52-8259-6a459498715f",
   "metadata": {},
   "source": [
    "Let's start by looking at the data in the text attribute."
   ]
  },
  {
   "cell_type": "code",
   "execution_count": 4,
   "id": "fb29ff15-0b0b-4edc-ab23-ceb6cd17973f",
   "metadata": {},
   "outputs": [
    {
     "data": {
      "text/plain": [
       "'\\n<!DOCTYPE html>\\n<html xmlns:fb=\"https://www.facebook.com/2008/fbml\">\\n<head>\\n\\n<script>\\n(function redirectToHttpIfHttps() {\\n   var win      = typeof window !== \\'undefined\\' && window,\\n       location = win && win.location,\\n       protocol = location && location.protocol;\\n\\n   if (protocol === \\'https:\\' && !false) {\\n        location.href = location.href.replace(\\'https://\\', \\'http://\\');\\n   }\\n})();\\n</script><meta charset=\"iso-8859-1\">\\n<meta http-equiv=\"X-UA-Compatible\" content=\"IE=edge,chrome=1\">\\n<link rel=\"icon\" sizes=\"any\" mask href=\"https://a.espncdn.com/favicon.ico\">\\n<meta name=\"theme-color\" content=\"#CC0000\">\\n<script type=\"text/javascript\">\\n    if(true && navigator && navigator.userAgent.toLowerCase().indexOf(\"teamstream\") >= 0) {\\n        window.location = \\'http://m.espn.com/mobilecache/general/apps/sc\\';\\n    }\\n</script><title>NBA Player Salaries - National Basketball Association - ESPN</title>\\n<meta name=\"google-site-verification\" content=\"xuj1ODRluWa0frM-BjIr_aSHoUC7HB5C1MgmYAM_GkA\" />\\n<meta name=\"msvalidate.01\" content=\"B1FEB7C682C46C8FCDA3130F3D18AC28\" />\\n<meta name=\"googlebot\" content=\"noodp\" />\\n<meta name=\"robots\" content=\"index, follow\" />\\n<meta name=\"description\" content=\"See the highest and lowest player salaries in the NBA on ESPN.com\" />\\n<meta name=\"keywords\" content=\"nba, salaries, salary info, payroll, salary cap\" />\\n<meta property=\"fb:app_id\" content=\"116656161708917\">\\n<meta property=\"og:site_name\" content=\"ESPN.com\">\\n<!--\\n<PageMap>\\n\\t<DataObject type=\"document\">\\n\\t\\t<Attribute name=\"title\">NBA Player Salaries - National Basketball Association</Attribute>\\n\\t</DataObject>\\n</PageMap>\\n-->\\n\\t\\t<script>var _sf_startpt=(new Date()).getTime();</script>\\n<link rel=\"search\" type=\"application/opensearchdescription+xml\" href=\"https://a.espncdn.com/search/opensearch.xml\" title=\"ESPN Search\" />\\n<link rel=\"stylesheet\" href=\"https://a.espncdn.com/combiner/c/201501211964?css=global_reset.r1.css,base.r237.css,modules.r465_2.css,global_header.r44.css,header_topbar.r1.css,modules/g'"
      ]
     },
     "execution_count": 4,
     "metadata": {},
     "output_type": "execute_result"
    }
   ],
   "source": [
    "espnResponse = requests.get(espn_web_scraping)\n",
    "espnResponse.text[:2000]"
   ]
  },
  {
   "cell_type": "markdown",
   "id": "9d65adc8-7ac8-4a7c-a64e-865420334ed2",
   "metadata": {},
   "source": [
    "This is raw HTML, what we want is humna-readible text, so let's use BeatifulSoup."
   ]
  },
  {
   "cell_type": "code",
   "execution_count": 5,
   "id": "3a3a1016-1b08-4cb0-a2c6-f5dcffaf85f1",
   "metadata": {},
   "outputs": [
    {
     "name": "stdout",
     "output_type": "stream",
     "text": [
      "\n",
      "\n",
      "\n",
      "\n",
      "\n",
      "\n",
      "\n",
      "\n",
      "NBA Player Salaries - National Basketball Association - ESPN\n",
      "\n",
      "\n",
      "\n",
      "\n",
      "\n",
      "\n",
      "\n",
      "\n",
      "\n",
      "\n",
      "\n",
      "\n",
      "\n",
      "\n",
      "\n",
      "\n",
      "\n",
      "\n",
      "\n",
      "\n",
      "\n",
      "\n",
      "\n",
      "\n",
      "\n",
      "\n",
      "\n",
      "\n",
      "\n",
      "\n",
      "\n",
      "\n",
      "\n",
      "\n",
      "\n",
      "\n",
      "\n",
      "\n",
      "\n",
      "\n",
      "\n",
      "\n",
      "\n",
      "NBA Player Salaries - 2020-2021Season: Select One2021-20222020-20212019-20202018-20192017-20182016-20172015-20162014-20152013-20142012-20132011-20122010-20112009-20102008-20092007-20082006-20072005-20062004-20052003-20042002-20032001-20022000-20011999-20002020-2021 Player SalariesRKNAMETEAMSALARY1Stephen Curry, PGGolden State Warriors$43,006,3622Chris Paul, PGPhoenix Suns$41,358,8143Russell Westbrook, PGWashington Wizards$41,358,8144James Harden, SGBrooklyn Nets$41,254,9205John Wall, PGHouston Rockets$41,254,9206Kevin Durant, PFBrooklyn Nets$40,108,9507LeBron James, SFLos Angeles Lakers$39,219,5658Paul George, SGLA Clippers$35,450,4129Klay Thompson, SGGolden State Warriors$35,361,36010Mike Conley, PGUtah Jazz$34,502,130RKNAMETEAMSALARY11Kemba Walker, PGBoston Celtics$34,379,10012Jimmy Butler, SFMiami Heat$34,379,10013Kawhi Leonard, SFLA Clippers$34,379,10014Tobias Harris, PFPhiladelphia 76ers$34,358,85015Khris Middleton, SFMilwaukee Bucks$33,051,72416Anthony Davis, PFLos Angeles Lakers$32,742,00017Kyrie Irving, PGBrooklyn Nets$31,742,00018Damian Lillard, PGPortland Trail Blazers$31,626,95319Kevin Love, PFCleveland Cavaliers$31,258,25620Pascal Siakam, PFToronto Raptors$30,559,200RKNAMETEAMSALARY21Ben Simmons, PGPhiladelphia 76ers$30,559,20022Kyle Lowry, PGToronto Raptors$30,500,00023Steven Adams, CNew Orleans Pelicans$29,592,69624Joel Embiid, CPhiladelphia 76ers$29,542,01025Andrew Wiggins, SFGolden State Warriors$29,542,01026Nikola Jokic, CDenver Nuggets$29,542,01027Devin Booker, SGPhoenix Suns$29,467,80028Karl-Anthony Towns, CMinnesota Timberwolves$29,467,80029Kristaps Porzingis, CDallas Mavericks$29,467,80030CJ McCollum, SGPortland Trail Blazers$29,354,152RKNAMETEAMSALARY31Bradley Beal, SGWashington Wizards$28,751,77532D'Angelo Russell, PGMinnesota Timberwolves$28,649,25033Gordon Hayward, SFCharlotte Hornets$28,500,00034Otto Porter Jr., SFOrlando Magic$28,489,23735DeMar DeRozan, SFSan Antonio Spurs$27,739,97536Giannis Antetokounmpo, PFMilwaukee Bucks$27,528,09037Rudy Gobert, CUtah Jazz$27,525,28138Al Horford, COklahoma City Thunder$27,500,00039Jamal Murray, PGDenver Nuggets$27,285,00040Brandon Ingram, SFNew Orleans Pelicans$27,285,000566 Results\n",
      "1 of 15\n",
      "\n",
      "\n",
      "\n",
      "\n",
      "\n",
      "\n",
      "\n",
      "\n",
      "\n",
      "\n",
      "\n",
      "KEY NBA STORYLINES\n",
      "\n",
      "\n",
      "\n",
      "\n",
      "Wall: I'm being paid same as Pistons' Jackson\n",
      "Silver: NBA not planning to tweak moratorium\n",
      "Bird: Our decision on George's position switch\n",
      "Mavs 'welcome back' former All-Star Williams\n",
      "Second DUI arrest for Nuggets' Lawson this year \n",
      "\n",
      "\n",
      "\n",
      "\n",
      "\n",
      "\n",
      "\n",
      "\n",
      "\n",
      "\n",
      "\n",
      "\n",
      "\n",
      "\n",
      "\n",
      "\n",
      "\n",
      "\n",
      "MenuESPN\n",
      "\n",
      "\n",
      "Search\n",
      "\n",
      "\n",
      "\n",
      "scores\n",
      "\n",
      "\n",
      "\n",
      "NFLNBAMLBNHLSoccerNCAAF…MMANCAAMNCAAWWNBAGolfTennisBoxingCFLChalkNCAACricketF1LLWSNASCARNBA G LeagueOlympic SportsRacingRN BBRN FBRugbyWWEX GamesMore ESPNFantasyListenWatchESPN+\n",
      "\n",
      "\n",
      "\n",
      "NBANBAHomeHomeScoresScoresScheduleScheduleStandingsStandingsStatsStatsTeamsTeamsDepth ChartsDepth ChartsPlayersPlayersDaily LinesDaily LinesSign Up: Fantasy BasketballSign Up: Fantasy BasketballInjuriesInjuriesNBA Trade MachineNBA Trade MachineTransactionsTransactionsDraftDraftWorld of WojWorld of WojRemembering KobeRemembering KobeHall of FameHall of FameCoachesCoachesNBA FinalsNBA FinalsG LeagueG LeagueNBA BPINBA BPIReal Plus-MinusReal Plus-MinusAwardsAwardsNBA HistoryNBA HistoryNBA.COM ticketsNBA.COM ticketsSalariesSalaries\n",
      "\n",
      "\n",
      "\n",
      "\n",
      "\n",
      "\n",
      "\n",
      "\n",
      "\n",
      "\n",
      "\n",
      "ESPN.com: Help | Press | Advertise on ESPN.com | Sales Media Kit | Interest-Based Ads | Do Not Sell My Info | Corrections | Contact Us | Site Map | Jobs at ESPN © 2021  ESPN Internet Ventures. Terms of Use, Privacy Policy, Your California Privacy Rights,  Children's Online Privacy Policy and Interest-Based Ads are applicable to you.  All rights reserved.\n",
      "\n",
      "\n",
      "\n",
      "\n",
      "\n",
      "\n",
      "\n",
      "\n",
      "\n",
      "\n",
      "\n",
      "\n",
      "\n",
      "\n",
      "\n",
      "\n",
      "\n",
      "\n",
      "\n"
     ]
    }
   ],
   "source": [
    "## parse the raw wiki HTML into a BeautifulSoup object\n",
    "soup = bs4.BeautifulSoup(espnResponse.text, 'html.parser')\n",
    "## let's see what it looks like by looking specifically\n",
    "## at the text attribute of the soup object\n",
    "print(soup.text)"
   ]
  }
 ],
 "metadata": {
  "kernelspec": {
   "display_name": "Python 3 (ipykernel)",
   "language": "python",
   "name": "python3"
  },
  "language_info": {
   "codemirror_mode": {
    "name": "ipython",
    "version": 3
   },
   "file_extension": ".py",
   "mimetype": "text/x-python",
   "name": "python",
   "nbconvert_exporter": "python",
   "pygments_lexer": "ipython3",
   "version": "3.8.3"
  }
 },
 "nbformat": 4,
 "nbformat_minor": 5
}
